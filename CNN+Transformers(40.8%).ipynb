{
  "nbformat": 4,
  "nbformat_minor": 0,
  "metadata": {
    "colab": {
      "provenance": [],
      "gpuType": "T4"
    },
    "kernelspec": {
      "name": "python3",
      "display_name": "Python 3"
    },
    "language_info": {
      "name": "python"
    },
    "accelerator": "GPU"
  },
  "cells": [
    {
      "cell_type": "code",
      "execution_count": null,
      "metadata": {
        "colab": {
          "base_uri": "https://localhost:8080/"
        },
        "id": "qrp-QRco_mbs",
        "outputId": "89940186-6af7-4e70-9ca9-fb07ba416558"
      },
      "outputs": [
        {
          "output_type": "stream",
          "name": "stdout",
          "text": [
            "Mounted at /content/drive\n",
            "/content/drive/.shortcut-targets-by-id/1-ZqOst-RT6vlWrAPZPiqbkETxbuIXYY1/Project - C147/project\n"
          ]
        }
      ],
      "source": [
        "from google.colab import drive\n",
        "drive.mount('/content/drive')\n",
        "%cd /content/drive/MyDrive/Project - C147/project/"
      ]
    },
    {
      "cell_type": "code",
      "source": [
        "import numpy as np\n",
        "X_test = np.load(\"X_test.npy\")\n",
        "y_test = np.load(\"y_test.npy\")\n",
        "person_train_valid = np.load(\"person_train_valid.npy\")\n",
        "X_train_valid = np.load(\"X_train_valid.npy\")\n",
        "y_train_valid = np.load(\"y_train_valid.npy\")\n",
        "person_test = np.load(\"person_test.npy\")\n",
        "y_train_valid -= 769\n",
        "y_test -= 769"
      ],
      "metadata": {
        "id": "eK6TFWqjGih1"
      },
      "execution_count": null,
      "outputs": []
    },
    {
      "cell_type": "markdown",
      "source": [
        "## Data Prep"
      ],
      "metadata": {
        "id": "M4qRXttg43Xp"
      }
    },
    {
      "cell_type": "code",
      "source": [
        "def train_data_prep(X,y,sub_sample,average,noise):\n",
        "\n",
        "    total_X = None\n",
        "    total_y = None\n",
        "\n",
        "    # Maxpooling the data (sample,22,1000) -> (sample,22,1000/sub_sample) - resultant vec has 400 points - downsampling; performing low pass filtering on EEG signals\n",
        "    X_max = np.max(X.reshape(X.shape[0], X.shape[1], -1, sub_sample), axis=3)\n",
        "\n",
        "    total_X = X_max\n",
        "    total_y = y\n",
        "    print('Shape of X after maxpooling:',total_X.shape)\n",
        "\n",
        "    # Averaging + noise\n",
        "    #first: mean pooling - downsampling method; smoothing\n",
        "    #second: add Gaussian noise; regularizing effect\n",
        "    X_average = np.mean(X.reshape(X.shape[0], X.shape[1], -1, average),axis=3)\n",
        "    X_average = X_average + np.random.normal(0.0, 0.5, X_average.shape)\n",
        "\n",
        "    total_X = np.vstack((total_X, X_average))\n",
        "    total_y = np.hstack((total_y, y))\n",
        "    print('Shape of X after averaging+noise and concatenating:',total_X.shape)\n",
        "\n",
        "    # Subsampling + noise addition\n",
        "\n",
        "    for i in range(sub_sample):\n",
        "\n",
        "        X_subsample = X[:, :, i::sub_sample] + \\\n",
        "                            (np.random.normal(0.0, 0.5, X[:, :,i::sub_sample].shape) if noise else 0.0)\n",
        "\n",
        "        total_X = np.vstack((total_X, X_subsample))\n",
        "        total_y = np.hstack((total_y, y))\n",
        "\n",
        "\n",
        "    print('Shape of X after subsampling and concatenating:',total_X.shape)\n",
        "    print('Shape of Y:',total_y.shape)\n",
        "    return total_X,total_y\n",
        "\n",
        "\n",
        "def test_data_prep(X):\n",
        "\n",
        "    total_X = None\n",
        "\n",
        "    # Maxpooling the data (sample,22,1000) -> (sample,22,1000/sub_sample)\n",
        "    X_max = np.max(X.reshape(X.shape[0], X.shape[1], -1, 10), axis=3)\n",
        "\n",
        "\n",
        "    total_X = X_max\n",
        "    print('Shape of X after maxpooling:',total_X.shape)\n",
        "\n",
        "    return total_X"
      ],
      "metadata": {
        "id": "Z06LRsSVG3xj"
      },
      "execution_count": null,
      "outputs": []
    },
    {
      "cell_type": "code",
      "source": [
        "#Proper splitting\n",
        "\n",
        "from keras.utils import to_categorical\n",
        "from sklearn.model_selection import train_test_split\n",
        "# # Train Val split\n",
        "# x_train, x_val, y_train, y_val = train_test_split(X_train_valid, y_train_valid, test_size=0.2, random_state=42)\n",
        "ind_valid = np.random.choice(2115, 235, replace=False)\n",
        "ind_train = np.array(list(set(range(2115)).difference(set(ind_valid))))\n",
        "\n",
        "# Creating the training and validation sets using the generated indices\n",
        "(x_train, x_valid) = X_train_valid[ind_train], X_train_valid[ind_valid]\n",
        "(y_train, y_valid) = y_train_valid[ind_train], y_train_valid[ind_valid]\n",
        "\n",
        "x_train,y_train = train_data_prep(x_train,y_train,10,10,True)\n",
        "x_valid,y_valid = train_data_prep(x_valid,y_valid,10,10,True)\n",
        "print(\"Val prep shape=\",x_valid.shape)\n",
        "x_test = test_data_prep(X_test)\n",
        "\n",
        "# Converting the labels to categorical variables for multiclass classification\n",
        "y_train = to_categorical(y_train, 4)\n",
        "y_valid = to_categorical(y_valid, 4)\n",
        "y_test = to_categorical(y_test, 4)\n",
        "print('Shape of training labels after categorical conversion:',y_train.shape)\n",
        "print('Shape of validation labels after categorical conversion:',y_valid.shape)\n",
        "print('Shape of test labels after categorical conversion:',y_test.shape)\n",
        "\n",
        "# Adding width of the segment to be 1\n",
        "x_train = x_train.reshape(x_train.shape[0], x_train.shape[1], x_train.shape[2], 1)\n",
        "x_valid = x_valid.reshape(x_valid.shape[0], x_valid.shape[1], x_valid.shape[2], 1)\n",
        "x_test = x_test.reshape(x_test.shape[0], x_test.shape[1], x_test.shape[2], 1)\n",
        "print('Shape of training set after adding width info:',x_train.shape)\n",
        "print('Shape of validation set after adding width info:',x_valid.shape)\n",
        "print('Shape of test set after adding width info:',x_test.shape)\n",
        "\n",
        "# Reshaping the training and validation dataset\n",
        "x_train = np.swapaxes(x_train, 1,3)\n",
        "x_train = np.swapaxes(x_train, 1,2)\n",
        "x_valid = np.swapaxes(x_valid, 1,3)\n",
        "x_valid = np.swapaxes(x_valid, 1,2)\n",
        "x_test = np.swapaxes(x_test, 1,3)\n",
        "x_test = np.swapaxes(x_test, 1,2)\n",
        "print('Shape of training set after dimension reshaping:',x_train.shape)\n",
        "print('Shape of validation set after dimension reshaping:',x_valid.shape)\n",
        "print('Shape of test set after dimension reshaping:',x_test.shape)"
      ],
      "metadata": {
        "colab": {
          "base_uri": "https://localhost:8080/"
        },
        "id": "p4P21tbmHPIa",
        "outputId": "fb801a8a-f786-49b0-9807-218edaca0a98"
      },
      "execution_count": null,
      "outputs": [
        {
          "output_type": "stream",
          "name": "stdout",
          "text": [
            "Shape of X after maxpooling: (1880, 22, 100)\n",
            "Shape of X after averaging+noise and concatenating: (3760, 22, 100)\n",
            "Shape of X after subsampling and concatenating: (22560, 22, 100)\n",
            "Shape of Y: (22560,)\n",
            "Shape of X after maxpooling: (235, 22, 100)\n",
            "Shape of X after averaging+noise and concatenating: (470, 22, 100)\n",
            "Shape of X after subsampling and concatenating: (2820, 22, 100)\n",
            "Shape of Y: (2820,)\n",
            "Val prep shape= (2820, 22, 100)\n",
            "Shape of X after maxpooling: (443, 22, 100)\n",
            "Shape of training labels after categorical conversion: (22560, 4)\n",
            "Shape of validation labels after categorical conversion: (2820, 4)\n",
            "Shape of test labels after categorical conversion: (443, 4)\n",
            "Shape of training set after adding width info: (22560, 22, 100, 1)\n",
            "Shape of validation set after adding width info: (2820, 22, 100, 1)\n",
            "Shape of test set after adding width info: (443, 22, 100, 1)\n",
            "Shape of training set after dimension reshaping: (22560, 100, 1, 22)\n",
            "Shape of validation set after dimension reshaping: (2820, 100, 1, 22)\n",
            "Shape of test set after dimension reshaping: (443, 100, 1, 22)\n"
          ]
        }
      ]
    },
    {
      "cell_type": "markdown",
      "source": [
        "## Model"
      ],
      "metadata": {
        "id": "5eCtaZyj49Va"
      }
    },
    {
      "cell_type": "code",
      "source": [
        "import torch\n",
        "import torch.nn as nn\n",
        "import torch.optim as optim\n",
        "from torch.utils.data import DataLoader, TensorDataset\n",
        "from torch.utils.tensorboard import SummaryWriter\n",
        "import torch.nn.functional as F\n",
        "\n",
        "class TransformerEncoder(nn.Module):\n",
        "    def __init__(self, input_dim, num_heads, dim_feedforward, dropout=0.1):\n",
        "        super(TransformerEncoder, self).__init__()\n",
        "        self.attention = nn.MultiheadAttention(input_dim, num_heads, dropout=dropout)\n",
        "        self.feed_forward = nn.Sequential(\n",
        "            nn.Linear(input_dim, dim_feedforward),\n",
        "            nn.ReLU(),\n",
        "            nn.Dropout(dropout),\n",
        "            nn.Linear(dim_feedforward, input_dim)\n",
        "        )\n",
        "        self.norm1 = nn.LayerNorm(input_dim)\n",
        "        self.norm2 = nn.LayerNorm(input_dim)\n",
        "        self.dropout = nn.Dropout(dropout)\n",
        "\n",
        "    def forward(self, x):\n",
        "        residual = x\n",
        "        x = self.norm1(x) # layernorm\n",
        "        x, _ = self.attention(x, x, x) # attention\n",
        "        x = self.dropout(x)\n",
        "        x = x + residual # ResNet actiation\n",
        "        residual = x\n",
        "        x = self.norm2(x)\n",
        "        x = self.feed_forward(x)\n",
        "        x = self.dropout(x)\n",
        "        x = x + residual\n",
        "        return x"
      ],
      "metadata": {
        "id": "SyixzMgjpDxe"
      },
      "execution_count": null,
      "outputs": []
    },
    {
      "cell_type": "code",
      "source": [
        "class HybridCNNTransformer(nn.Module):\n",
        "    def __init__(self):\n",
        "        super(HybridCNNTransformer, self).__init__()\n",
        "        self.conv_block1 = nn.Sequential(\n",
        "            nn.Conv2d(in_channels=100, out_channels=200, kernel_size=(5, 5), padding=(2, 2)),\n",
        "            nn.ELU(),\n",
        "            nn.MaxPool2d(kernel_size=(3, 1), padding=(1, 0)),\n",
        "            nn.BatchNorm2d(200),\n",
        "            nn.Dropout(0.6)\n",
        "        )\n",
        "        self.conv_block2 = nn.Sequential(\n",
        "            nn.Conv2d(in_channels=200, out_channels=100, kernel_size=(5, 5), padding=(2, 2)),\n",
        "            nn.ELU(),\n",
        "            nn.MaxPool2d(kernel_size=(3, 1), padding=(1, 0)),\n",
        "            nn.BatchNorm2d(100),\n",
        "            nn.Dropout(0.6)\n",
        "        )\n",
        "        self.transformer = TransformerEncoder(input_dim=100, num_heads=4, dim_feedforward=512, dropout=0.5)\n",
        "        self.fc = nn.Linear(100, 4)\n",
        "\n",
        "    def forward(self, x):\n",
        "        x = self.conv_block1(x)\n",
        "        x = self.conv_block2(x)\n",
        "        batch_size, time_steps, _, channels = x.shape\n",
        "        x = x.view(batch_size, channels, time_steps)\n",
        "        x = self.transformer(x)\n",
        "        x = x.mean(dim=1)  # Take the mean across the time dimension\n",
        "        x = self.fc(x)\n",
        "        return torch.softmax(x, dim=1)\n",
        "\n",
        "device = torch.device(\"cuda\" if torch.cuda.is_available() else \"cpu\")\n",
        "model = HybridCNNTransformer().to(device)"
      ],
      "metadata": {
        "id": "6TRq0XkYvz1e"
      },
      "execution_count": null,
      "outputs": []
    },
    {
      "cell_type": "code",
      "source": [
        "from torch.utils.data import DataLoader, TensorDataset\n",
        "\n",
        "# Convert NumPy arrays to PyTorch tensors\n",
        "x_train_tensor = torch.tensor(x_train, dtype=torch.float32).to(device)\n",
        "y_train_tensor = torch.tensor(y_train, dtype=torch.float32).to(device)\n",
        "x_valid_tensor = torch.tensor(x_valid, dtype=torch.float32).to(device)\n",
        "y_valid_tensor = torch.tensor(y_valid, dtype=torch.float32).to(device)\n",
        "x_test_tensor = torch.tensor(x_test, dtype=torch.float32).to(device)\n",
        "y_test_tensor = torch.tensor(y_test, dtype=torch.float32).to(device)\n",
        "\n",
        "# Create datasets and data loaders\n",
        "train_dataset = TensorDataset(x_train_tensor, y_train_tensor)\n",
        "valid_dataset = TensorDataset(x_valid_tensor, y_valid_tensor)\n",
        "test_dataset = TensorDataset(x_test_tensor, y_test_tensor)\n",
        "\n",
        "batch_size = 256\n",
        "train_loader = DataLoader(train_dataset, batch_size=batch_size, shuffle=True)\n",
        "valid_loader = DataLoader(valid_dataset, batch_size=batch_size)\n",
        "test_loader = DataLoader(test_dataset, batch_size=batch_size)"
      ],
      "metadata": {
        "id": "wrH-28EjpF0i"
      },
      "execution_count": null,
      "outputs": []
    },
    {
      "cell_type": "markdown",
      "source": [
        "## Training Loop"
      ],
      "metadata": {
        "id": "TJXDkKsN5Ck8"
      }
    },
    {
      "cell_type": "code",
      "source": [
        "criterion = nn.CrossEntropyLoss()\n",
        "learning_rate = 1e-3\n",
        "l2_reg = 1e-5\n",
        "hybrid_cnn_transformer_optimizer = optim.Adam(model.parameters(), lr=learning_rate, weight_decay=l2_reg)\n",
        "\n",
        "epochs = 20\n",
        "training_losses = []\n",
        "val_losses = []\n",
        "training_accs = []\n",
        "val_accs = []\n",
        "for epoch in range(epochs):\n",
        "    model.train()\n",
        "    total_train = 0\n",
        "    correct_train = 0\n",
        "    total_train_loss = 0.0\n",
        "    for inputs, labels in train_loader:\n",
        "        hybrid_cnn_transformer_optimizer.zero_grad()\n",
        "        outputs = model(inputs)\n",
        "        loss = criterion(outputs, labels)\n",
        "        loss.backward()\n",
        "        hybrid_cnn_transformer_optimizer.step()\n",
        "        total_train_loss += loss.item() * inputs.size(0)\n",
        "        _, predicted = torch.max(outputs, 1)\n",
        "        total_train += labels.size(0)\n",
        "        one_hot_tensor = F.one_hot(predicted, num_classes=4)\n",
        "        correct_train += (one_hot_tensor == labels).all(dim=1).sum().item()\n",
        "\n",
        "    average_train_loss = total_train_loss / len(train_loader.dataset)\n",
        "    training_losses.append(average_train_loss)\n",
        "    train_accuracy = correct_train / total_train\n",
        "    training_accs.append(train_accuracy)\n",
        "    # Validation loop\n",
        "    model.eval()\n",
        "    correct = 0\n",
        "    total = 0\n",
        "    with torch.no_grad():\n",
        "        total_val_loss = 0.0\n",
        "        for inputs, labels in valid_loader:\n",
        "            outputs = model(inputs)\n",
        "            _, predicted = torch.max(outputs, 1)\n",
        "            total += labels.size(0)\n",
        "            one_hot_tensor = F.one_hot(predicted, num_classes=4)\n",
        "            correct += (one_hot_tensor == labels).all(dim=1).sum().item()\n",
        "            total_val_loss += loss.item() * inputs.size(0)\n",
        "\n",
        "    valid_accuracy = correct / total\n",
        "    average_val_loss = total_val_loss / len(valid_loader.dataset)\n",
        "    val_losses.append(average_val_loss)\n",
        "    val_accs.append(valid_accuracy)\n",
        "    print(f'Epoch {epoch+1}/{epochs}, '\n",
        "          f'Train Loss: {average_train_loss:.4f}, '\n",
        "          f'Val Loss: {average_val_loss:.4f}, '\n",
        "          f'Train Accuracy: {train_accuracy:.4f}, '\n",
        "          f'Val Accuracy: {valid_accuracy:.4f}')"
      ],
      "metadata": {
        "colab": {
          "base_uri": "https://localhost:8080/"
        },
        "id": "qJ4UYkAb4eZi",
        "outputId": "5c03aedc-a843-40b8-84d5-191b43ecd3f6"
      },
      "execution_count": null,
      "outputs": [
        {
          "output_type": "stream",
          "name": "stdout",
          "text": [
            "Epoch 1/20, Train Loss: 1.2831, Val Loss: 1.2577, Train Accuracy: 0.4312, Val Accuracy: 0.3376\n",
            "Epoch 2/20, Train Loss: 1.1496, Val Loss: 1.1426, Train Accuracy: 0.5832, Val Accuracy: 0.3713\n",
            "Epoch 3/20, Train Loss: 1.0898, Val Loss: 1.0868, Train Accuracy: 0.6457, Val Accuracy: 0.3656\n",
            "Epoch 4/20, Train Loss: 1.0573, Val Loss: 0.9800, Train Accuracy: 0.6785, Val Accuracy: 0.3606\n",
            "Epoch 5/20, Train Loss: 1.0236, Val Loss: 0.9426, Train Accuracy: 0.7145, Val Accuracy: 0.4004\n",
            "Epoch 6/20, Train Loss: 1.0021, Val Loss: 1.0895, Train Accuracy: 0.7346, Val Accuracy: 0.3780\n",
            "Epoch 7/20, Train Loss: 0.9907, Val Loss: 0.9688, Train Accuracy: 0.7492, Val Accuracy: 0.3851\n",
            "Epoch 8/20, Train Loss: 0.9729, Val Loss: 1.1043, Train Accuracy: 0.7663, Val Accuracy: 0.3897\n",
            "Epoch 9/20, Train Loss: 0.9673, Val Loss: 0.9381, Train Accuracy: 0.7722, Val Accuracy: 0.3887\n",
            "Epoch 10/20, Train Loss: 0.9554, Val Loss: 0.9187, Train Accuracy: 0.7844, Val Accuracy: 0.4028\n",
            "Epoch 11/20, Train Loss: 0.9477, Val Loss: 0.8907, Train Accuracy: 0.7918, Val Accuracy: 0.3780\n",
            "Epoch 12/20, Train Loss: 0.9420, Val Loss: 0.9432, Train Accuracy: 0.7995, Val Accuracy: 0.3975\n",
            "Epoch 13/20, Train Loss: 0.9315, Val Loss: 0.9982, Train Accuracy: 0.8076, Val Accuracy: 0.3784\n",
            "Epoch 14/20, Train Loss: 0.9297, Val Loss: 0.9651, Train Accuracy: 0.8104, Val Accuracy: 0.3830\n",
            "Epoch 15/20, Train Loss: 0.9182, Val Loss: 0.9948, Train Accuracy: 0.8223, Val Accuracy: 0.3890\n",
            "Epoch 16/20, Train Loss: 0.9157, Val Loss: 0.9414, Train Accuracy: 0.8250, Val Accuracy: 0.3805\n",
            "Epoch 17/20, Train Loss: 0.9123, Val Loss: 0.9071, Train Accuracy: 0.8285, Val Accuracy: 0.3791\n",
            "Epoch 18/20, Train Loss: 0.9071, Val Loss: 0.8874, Train Accuracy: 0.8337, Val Accuracy: 0.3940\n",
            "Epoch 19/20, Train Loss: 0.9053, Val Loss: 0.8533, Train Accuracy: 0.8363, Val Accuracy: 0.3872\n",
            "Epoch 20/20, Train Loss: 0.8971, Val Loss: 0.8058, Train Accuracy: 0.8443, Val Accuracy: 0.3883\n"
          ]
        }
      ]
    },
    {
      "cell_type": "code",
      "source": [
        "import matplotlib.pyplot as plt\n",
        "\n",
        "# Plotting accuracy trajectory\n",
        "plt.plot(training_accs)\n",
        "plt.plot(val_accs)\n",
        "plt.title('CNN + Transformer accuracy trajectory')\n",
        "plt.ylabel('accuracy')\n",
        "plt.xlabel('epoch')\n",
        "plt.legend(['train', 'val'], loc='upper left')\n",
        "plt.show()\n",
        "\n",
        "# Plotting loss trajectory\n",
        "plt.plot(training_losses,'o')\n",
        "plt.plot(val_losses,'o')\n",
        "plt.title('CNN + Transformer loss trajectory')\n",
        "plt.ylabel('loss')\n",
        "plt.xlabel('epoch')\n",
        "plt.legend(['train', 'val'], loc='upper left')\n",
        "plt.show()"
      ],
      "metadata": {
        "colab": {
          "base_uri": "https://localhost:8080/",
          "height": 927
        },
        "id": "aCLj5YZ55ndJ",
        "outputId": "d6ebac79-2364-40f3-8a70-784c47772e58"
      },
      "execution_count": null,
      "outputs": [
        {
          "output_type": "display_data",
          "data": {
            "text/plain": [
              "<Figure size 640x480 with 1 Axes>"
            ],
            "image/png": "[encoded data removed]"
          },
          "metadata": {}
        },
        {
          "output_type": "display_data",
          "data": {
            "text/plain": [
              "<Figure size 640x480 with 1 Axes>"
            ],
            "image/png": "[encoded data removed]"
          },
          "metadata": {}
        }
      ]
    },
    {
      "cell_type": "code",
      "source": [
        "# Evaluation loop on test set\n",
        "model.eval()\n",
        "correct = 0\n",
        "total = 0\n",
        "with torch.no_grad():\n",
        "    for inputs, labels in test_loader:\n",
        "        outputs = model(inputs)\n",
        "        _, predicted = torch.max(outputs, 1)\n",
        "        total += labels.size(0)\n",
        "        one_hot_tensor = F.one_hot(predicted, num_classes=4)\n",
        "        correct += (one_hot_tensor == labels).all(dim=1).sum().item()\n",
        "\n",
        "test_accuracy = correct / total\n",
        "print('Test accuracy of the hybrid CNN+Transformer model:', test_accuracy)"
      ],
      "metadata": {
        "colab": {
          "base_uri": "https://localhost:8080/"
        },
        "id": "E-lk8fa_0lEq",
        "outputId": "32317521-e7f5-4796-e864-4e68c09749d5"
      },
      "execution_count": null,
      "outputs": [
        {
          "output_type": "stream",
          "name": "stdout",
          "text": [
            "Test accuracy of the hybrid CNN+Transformer model: 0.40857787810383744\n"
          ]
        }
      ]
    },
    {
      "cell_type": "code",
      "source": [],
      "metadata": {
        "id": "iW_GGct76v8d"
      },
      "execution_count": null,
      "outputs": []
    }
  ]
}