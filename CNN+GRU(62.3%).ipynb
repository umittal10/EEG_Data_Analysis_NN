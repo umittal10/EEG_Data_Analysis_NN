{
  "nbformat": 4,
  "nbformat_minor": 0,
  "metadata": {
    "colab": {
      "provenance": []
    },
    "kernelspec": {
      "name": "python3",
      "display_name": "Python 3"
    },
    "language_info": {
      "name": "python"
    }
  },
  "cells": [
    {
      "cell_type": "markdown",
      "source": [
        "## CNN + GRU model for EEG data"
      ],
      "metadata": {
        "id": "OF8KMTSb5Ox7"
      }
    },
    {
      "cell_type": "code",
      "execution_count": null,
      "metadata": {
        "colab": {
          "base_uri": "https://localhost:8080/"
        },
        "id": "VWtbe-NImsqu",
        "outputId": "b1f3caec-1bc8-4738-e648-3475c6b2deec"
      },
      "outputs": [
        {
          "output_type": "stream",
          "name": "stdout",
          "text": [
            "Mounted at /content/drive\n",
            "/content/drive/.shortcut-targets-by-id/1-ZqOst-RT6vlWrAPZPiqbkETxbuIXYY1/Project - C147/project\n"
          ]
        }
      ],
      "source": [
        "from google.colab import drive\n",
        "drive.mount('/content/drive')\n",
        "%cd /content/drive/MyDrive/Project - C147/project/"
      ]
    },
    {
      "cell_type": "code",
      "source": [
        "import numpy as np\n",
        "X_test = np.load(\"X_test.npy\")\n",
        "y_test = np.load(\"y_test.npy\")\n",
        "person_train_valid = np.load(\"person_train_valid.npy\")\n",
        "X_train_valid = np.load(\"X_train_valid.npy\")\n",
        "y_train_valid = np.load(\"y_train_valid.npy\")\n",
        "person_test = np.load(\"person_test.npy\")\n",
        "\n",
        "y_train_valid -= 769\n",
        "y_test -= 769"
      ],
      "metadata": {
        "id": "rRuqe4mXmzfV"
      },
      "execution_count": null,
      "outputs": []
    },
    {
      "cell_type": "code",
      "source": [
        "def train_data_prep(X,y,sub_sample,average,noise):\n",
        "\n",
        "    total_X = None\n",
        "    total_y = None\n",
        "\n",
        "    # Trimming the data (sample,22,1000) -> (sample,22,800)\n",
        "    X = X[:,:,0:800]\n",
        "    print('Shape of X after trimming:',X.shape)\n",
        "\n",
        "    # Maxpooling the data (sample,22,800) -> (sample,22,800/sub_sample) - resultant vec has 400 points - downsampling; performing low pass filtering on EEG signals\n",
        "    X_max = np.max(X.reshape(X.shape[0], X.shape[1], -1, sub_sample), axis=3)\n",
        "\n",
        "\n",
        "    total_X = X_max\n",
        "    total_y = y\n",
        "    print('Shape of X after maxpooling:',total_X.shape)\n",
        "\n",
        "    # Averaging + noise\n",
        "    #first: mean pooling - downsampling method; smoothing\n",
        "    #second: add Gaussian noise; regularizing effect\n",
        "    X_average = np.mean(X.reshape(X.shape[0], X.shape[1], -1, average),axis=3)\n",
        "    X_average = X_average + np.random.normal(0.0, 0.5, X_average.shape)\n",
        "\n",
        "    total_X = np.vstack((total_X, X_average)) #vertical stacking; 4230 samples after stacking; size of dataset increased; each of dimension 22x400\n",
        "    total_y = np.hstack((total_y, y))\n",
        "    print('Shape of X after averaging+noise and concatenating:',total_X.shape)\n",
        "\n",
        "    # Subsampling + noise addition\n",
        "\n",
        "    for i in range(sub_sample):\n",
        "\n",
        "        X_subsample = X[:, :, i::sub_sample] + \\\n",
        "                            (np.random.normal(0.0, 0.5, X[:, :,i::sub_sample].shape) if noise else 0.0)\n",
        "\n",
        "        total_X = np.vstack((total_X, X_subsample))\n",
        "        total_y = np.hstack((total_y, y))\n",
        "\n",
        "\n",
        "    print('Shape of X after subsampling and concatenating:',total_X.shape)\n",
        "    print('Shape of Y:',total_y.shape)\n",
        "    return total_X,total_y\n",
        "\n",
        "\n",
        "def test_data_prep(X):\n",
        "\n",
        "    total_X = None\n",
        "\n",
        "\n",
        "    # Trimming the data (sample,22,1000) -> (sample,22,800)\n",
        "    X = X[:,:,0:800]\n",
        "    print('Shape of X after trimming:',X.shape)\n",
        "\n",
        "    # Maxpooling the data (sample,22,800) -> (sample,22,800/sub_sample)\n",
        "    X_max = np.max(X.reshape(X.shape[0], X.shape[1], -1, 8), axis=3)\n",
        "\n",
        "\n",
        "    total_X = X_max\n",
        "    print('Shape of X after maxpooling:',total_X.shape)\n",
        "\n",
        "    return total_X"
      ],
      "metadata": {
        "id": "Bcyj6blAm1Q8"
      },
      "execution_count": null,
      "outputs": []
    },
    {
      "cell_type": "markdown",
      "source": [
        "## Data Preprocessing to prevent data leakage"
      ],
      "metadata": {
        "id": "JtMCyoob7XIK"
      }
    },
    {
      "cell_type": "code",
      "source": [
        "## Random splitting and reshaping the data\n",
        "\n",
        "from keras.utils import to_categorical\n",
        "from sklearn.model_selection import train_test_split\n",
        "\n",
        "ind_valid = np.random.choice(2115, 235, replace=False)\n",
        "ind_train = np.array(list(set(range(2115)).difference(set(ind_valid))))\n",
        "\n",
        "# Creating the training and validation sets using the generated indices\n",
        "(x_train, x_valid) = X_train_valid[ind_train], X_train_valid[ind_valid]\n",
        "(y_train, y_valid) = y_train_valid[ind_train], y_train_valid[ind_valid]\n",
        "\n",
        "x_train,y_train = train_data_prep(x_train,y_train,8,8,True)\n",
        "x_valid,y_valid = train_data_prep(x_valid,y_valid,8,8,True)\n",
        "print(\"Val prep shape=\",x_valid.shape)\n",
        "x_test = test_data_prep(X_test)\n",
        "\n",
        "# Converting the labels to categorical variables for multiclass classification\n",
        "y_train = to_categorical(y_train, 4)\n",
        "y_valid = to_categorical(y_valid, 4)\n",
        "y_test = to_categorical(y_test, 4)\n",
        "print('Shape of training labels after categorical conversion:',y_train.shape)\n",
        "print('Shape of validation labels after categorical conversion:',y_valid.shape)\n",
        "print('Shape of test labels after categorical conversion:',y_test.shape)\n",
        "\n",
        "# Adding width of the segment to be 1\n",
        "x_train = x_train.reshape(x_train.shape[0], x_train.shape[1], x_train.shape[2], 1)\n",
        "x_valid = x_valid.reshape(x_valid.shape[0], x_valid.shape[1], x_valid.shape[2], 1)\n",
        "x_test = x_test.reshape(x_test.shape[0], x_test.shape[1], x_test.shape[2], 1)\n",
        "print('Shape of training set after adding width info:',x_train.shape)\n",
        "print('Shape of validation set after adding width info:',x_valid.shape)\n",
        "print('Shape of test set after adding width info:',x_test.shape)\n",
        "\n",
        "# Reshaping the training and validation dataset\n",
        "x_train = np.swapaxes(x_train, 1,3)\n",
        "x_train = np.swapaxes(x_train, 1,2)\n",
        "x_valid = np.swapaxes(x_valid, 1,3)\n",
        "x_valid = np.swapaxes(x_valid, 1,2)\n",
        "x_test = np.swapaxes(x_test, 1,3)\n",
        "x_test = np.swapaxes(x_test, 1,2)\n",
        "print('Shape of training set after dimension reshaping:',x_train.shape)\n",
        "print('Shape of validation set after dimension reshaping:',x_valid.shape)\n",
        "print('Shape of test set after dimension reshaping:',x_test.shape)\n"
      ],
      "metadata": {
        "id": "H8V9aCZIqy4M",
        "colab": {
          "base_uri": "https://localhost:8080/"
        },
        "outputId": "374a4dfb-f3bd-4954-961d-85ad379c20a1"
      },
      "execution_count": null,
      "outputs": [
        {
          "output_type": "stream",
          "name": "stdout",
          "text": [
            "Shape of X after trimming: (1880, 22, 800)\n",
            "Shape of X after maxpooling: (1880, 22, 100)\n",
            "Shape of X after averaging+noise and concatenating: (3760, 22, 100)\n",
            "Shape of X after subsampling and concatenating: (18800, 22, 100)\n",
            "Shape of Y: (18800,)\n",
            "Shape of X after trimming: (235, 22, 800)\n",
            "Shape of X after maxpooling: (235, 22, 100)\n",
            "Shape of X after averaging+noise and concatenating: (470, 22, 100)\n",
            "Shape of X after subsampling and concatenating: (2350, 22, 100)\n",
            "Shape of Y: (2350,)\n",
            "Val prep shape= (2350, 22, 100)\n",
            "Shape of X after trimming: (443, 22, 800)\n",
            "Shape of X after maxpooling: (443, 22, 100)\n",
            "Shape of training labels after categorical conversion: (18800, 4)\n",
            "Shape of validation labels after categorical conversion: (2350, 4)\n",
            "Shape of test labels after categorical conversion: (443, 4)\n",
            "Shape of training set after adding width info: (18800, 22, 100, 1)\n",
            "Shape of validation set after adding width info: (2350, 22, 100, 1)\n",
            "Shape of test set after adding width info: (443, 22, 100, 1)\n",
            "Shape of training set after dimension reshaping: (18800, 100, 1, 22)\n",
            "Shape of validation set after dimension reshaping: (2350, 100, 1, 22)\n",
            "Shape of test set after dimension reshaping: (443, 100, 1, 22)\n"
          ]
        }
      ]
    },
    {
      "cell_type": "code",
      "source": [
        "import numpy as np\n",
        "import pandas as pd\n",
        "import keras\n",
        "from keras.models import Sequential\n",
        "from keras.layers import Dense, Activation, Flatten,Dropout\n",
        "from keras.layers import Conv2D,LSTM,BatchNormalization,MaxPooling2D,Reshape,Bidirectional,TimeDistributed\n",
        "from keras.utils import to_categorical\n",
        "import matplotlib.pyplot as plt\n",
        "from keras import layers, models"
      ],
      "metadata": {
        "id": "PTuT1U7untIk"
      },
      "execution_count": null,
      "outputs": []
    },
    {
      "cell_type": "code",
      "source": [
        "# Building the CNN model using sequential class\n",
        "hybrid_cnn_gru_model = Sequential()\n",
        "#created a 2D conv layer instead of one dimensional\n",
        "# Conv. block 1\n",
        "hybrid_cnn_gru_model.add(Conv2D(filters=100, kernel_size=(5,5), padding='same', activation='elu', input_shape=(100,1,22)))\n",
        "hybrid_cnn_gru_model.add(MaxPooling2D(pool_size=(3,1), padding='same')) # Read the keras documentation\n",
        "hybrid_cnn_gru_model.add(BatchNormalization())\n",
        "hybrid_cnn_gru_model.add(Dropout(0.4))\n",
        "\n",
        "# Conv. block 2\n",
        "hybrid_cnn_gru_model.add(Conv2D(filters=50, kernel_size=(5,5), padding='same', activation='elu'))\n",
        "hybrid_cnn_gru_model.add(MaxPooling2D(pool_size=(3,1), padding='same'))\n",
        "hybrid_cnn_gru_model.add(BatchNormalization())\n",
        "hybrid_cnn_gru_model.add(Dropout(0.6))\n",
        "\n",
        "# Conv. block 3\n",
        "hybrid_cnn_gru_model.add(Conv2D(filters=100, kernel_size=(5,5), padding='same', activation='elu'))\n",
        "hybrid_cnn_gru_model.add(MaxPooling2D(pool_size=(3,1), padding='same'))\n",
        "hybrid_cnn_gru_model.add(BatchNormalization())\n",
        "hybrid_cnn_gru_model.add(Dropout(0.6))\n",
        "\n",
        "# Conv. block 4\n",
        "hybrid_cnn_gru_model.add(Conv2D(filters=200, kernel_size=(5,5), padding='same', activation='elu'))\n",
        "hybrid_cnn_gru_model.add(MaxPooling2D(pool_size=(3,1), padding='same'))\n",
        "hybrid_cnn_gru_model.add(BatchNormalization())\n",
        "hybrid_cnn_gru_model.add(Dropout(0.6))\n",
        "\n",
        "# Reshape output to fit GRU input shape\n",
        "hybrid_cnn_gru_model.add(Reshape((200, -1)))\n",
        "# GRU layer\n",
        "hybrid_cnn_gru_model.add(layers.GRU(64, return_sequences=False))\n",
        "\n",
        "# Output layer with Softmax activation\n",
        "hybrid_cnn_gru_model.add(Dense(4, activation='softmax')) # Output FC layer with softmax activation\n",
        "\n",
        "\n",
        "# Printing the model summary\n",
        "hybrid_cnn_gru_model.summary()"
      ],
      "metadata": {
        "colab": {
          "base_uri": "https://localhost:8080/"
        },
        "id": "xUFj_ruO8Jc-",
        "outputId": "604f382d-16da-4362-bae8-9eeb1ab53216"
      },
      "execution_count": null,
      "outputs": [
        {
          "output_type": "stream",
          "name": "stdout",
          "text": [
            "Model: \"sequential\"\n",
            "_________________________________________________________________\n",
            " Layer (type)                Output Shape              Param #   \n",
            "=================================================================\n",
            " conv2d (Conv2D)             (None, 100, 1, 100)       55100     \n",
            "                                                                 \n",
            " max_pooling2d (MaxPooling2  (None, 34, 1, 100)        0         \n",
            " D)                                                              \n",
            "                                                                 \n",
            " batch_normalization (Batch  (None, 34, 1, 100)        400       \n",
            " Normalization)                                                  \n",
            "                                                                 \n",
            " dropout (Dropout)           (None, 34, 1, 100)        0         \n",
            "                                                                 \n",
            " conv2d_1 (Conv2D)           (None, 34, 1, 50)         125050    \n",
            "                                                                 \n",
            " max_pooling2d_1 (MaxPoolin  (None, 12, 1, 50)         0         \n",
            " g2D)                                                            \n",
            "                                                                 \n",
            " batch_normalization_1 (Bat  (None, 12, 1, 50)         200       \n",
            " chNormalization)                                                \n",
            "                                                                 \n",
            " dropout_1 (Dropout)         (None, 12, 1, 50)         0         \n",
            "                                                                 \n",
            " conv2d_2 (Conv2D)           (None, 12, 1, 100)        125100    \n",
            "                                                                 \n",
            " max_pooling2d_2 (MaxPoolin  (None, 4, 1, 100)         0         \n",
            " g2D)                                                            \n",
            "                                                                 \n",
            " batch_normalization_2 (Bat  (None, 4, 1, 100)         400       \n",
            " chNormalization)                                                \n",
            "                                                                 \n",
            " dropout_2 (Dropout)         (None, 4, 1, 100)         0         \n",
            "                                                                 \n",
            " conv2d_3 (Conv2D)           (None, 4, 1, 200)         500200    \n",
            "                                                                 \n",
            " max_pooling2d_3 (MaxPoolin  (None, 2, 1, 200)         0         \n",
            " g2D)                                                            \n",
            "                                                                 \n",
            " batch_normalization_3 (Bat  (None, 2, 1, 200)         800       \n",
            " chNormalization)                                                \n",
            "                                                                 \n",
            " dropout_3 (Dropout)         (None, 2, 1, 200)         0         \n",
            "                                                                 \n",
            " reshape (Reshape)           (None, 200, 2)            0         \n",
            "                                                                 \n",
            " gru (GRU)                   (None, 64)                13056     \n",
            "                                                                 \n",
            " dense (Dense)               (None, 4)                 260       \n",
            "                                                                 \n",
            "=================================================================\n",
            "Total params: 820566 (3.13 MB)\n",
            "Trainable params: 819666 (3.13 MB)\n",
            "Non-trainable params: 900 (3.52 KB)\n",
            "_________________________________________________________________\n"
          ]
        }
      ]
    },
    {
      "cell_type": "code",
      "source": [
        "from tensorflow.keras.optimizers import Adam\n",
        "from tensorflow.keras.callbacks import EarlyStopping\n",
        "\n",
        "\n",
        "# Model parameters\n",
        "learningrate = 1e-3\n",
        "epochs = 50\n",
        "hybrid_cnn_lstm_optimizer = Adam(learning_rate=learningrate)\n",
        "# Define EarlyStopping callback\n",
        "early_stopping = EarlyStopping(monitor='val_accuracy', patience=5, restore_best_weights=True)"
      ],
      "metadata": {
        "id": "OUV6WVGMogRi"
      },
      "execution_count": null,
      "outputs": []
    },
    {
      "cell_type": "code",
      "source": [
        "# Compiling the model\n",
        "hybrid_cnn_gru_model.compile(loss='categorical_crossentropy',\n",
        "                 optimizer=hybrid_cnn_lstm_optimizer,\n",
        "                 metrics=['accuracy'])\n",
        "\n",
        "# Training and validating the model\n",
        "hybrid_cnn_gru_model_results = hybrid_cnn_gru_model.fit(x_train,\n",
        "             y_train,\n",
        "             batch_size=64,\n",
        "             epochs=epochs,\n",
        "             validation_data=(x_valid, y_valid), verbose=True, callbacks=[early_stopping])\n",
        "\n",
        "\n"
      ],
      "metadata": {
        "id": "3Tq6mR3MotDQ",
        "colab": {
          "base_uri": "https://localhost:8080/"
        },
        "outputId": "d6f5dab6-0795-46fc-8970-4d99a9de1aef"
      },
      "execution_count": null,
      "outputs": [
        {
          "output_type": "stream",
          "name": "stdout",
          "text": [
            "Epoch 1/50\n",
            "294/294 [==============================] - 13s 19ms/step - loss: 1.3570 - accuracy: 0.3156 - val_loss: 1.2799 - val_accuracy: 0.3689\n",
            "Epoch 2/50\n",
            "294/294 [==============================] - 4s 12ms/step - loss: 1.2644 - accuracy: 0.4081 - val_loss: 1.2071 - val_accuracy: 0.4272\n",
            "Epoch 3/50\n",
            "294/294 [==============================] - 4s 12ms/step - loss: 1.2077 - accuracy: 0.4467 - val_loss: 1.1760 - val_accuracy: 0.4540\n",
            "Epoch 4/50\n",
            "294/294 [==============================] - 4s 14ms/step - loss: 1.1678 - accuracy: 0.4699 - val_loss: 1.1711 - val_accuracy: 0.4536\n",
            "Epoch 5/50\n",
            "294/294 [==============================] - 4s 12ms/step - loss: 1.1278 - accuracy: 0.4919 - val_loss: 1.1396 - val_accuracy: 0.4791\n",
            "Epoch 6/50\n",
            "294/294 [==============================] - 4s 12ms/step - loss: 1.1049 - accuracy: 0.5074 - val_loss: 1.1454 - val_accuracy: 0.4766\n",
            "Epoch 7/50\n",
            "294/294 [==============================] - 4s 15ms/step - loss: 1.0735 - accuracy: 0.5252 - val_loss: 1.0835 - val_accuracy: 0.5243\n",
            "Epoch 8/50\n",
            "294/294 [==============================] - 4s 13ms/step - loss: 1.0478 - accuracy: 0.5418 - val_loss: 1.1079 - val_accuracy: 0.4889\n",
            "Epoch 9/50\n",
            "294/294 [==============================] - 4s 15ms/step - loss: 1.0167 - accuracy: 0.5576 - val_loss: 1.0594 - val_accuracy: 0.5417\n",
            "Epoch 10/50\n",
            "294/294 [==============================] - 5s 18ms/step - loss: 0.9926 - accuracy: 0.5721 - val_loss: 1.0366 - val_accuracy: 0.5634\n",
            "Epoch 11/50\n",
            "294/294 [==============================] - 4s 13ms/step - loss: 0.9705 - accuracy: 0.5904 - val_loss: 1.0076 - val_accuracy: 0.5762\n",
            "Epoch 12/50\n",
            "294/294 [==============================] - 4s 12ms/step - loss: 0.9510 - accuracy: 0.6044 - val_loss: 0.9743 - val_accuracy: 0.5953\n",
            "Epoch 13/50\n",
            "294/294 [==============================] - 4s 14ms/step - loss: 0.9231 - accuracy: 0.6149 - val_loss: 0.9628 - val_accuracy: 0.6102\n",
            "Epoch 14/50\n",
            "294/294 [==============================] - 4s 14ms/step - loss: 0.9037 - accuracy: 0.6310 - val_loss: 0.9271 - val_accuracy: 0.6226\n",
            "Epoch 15/50\n",
            "294/294 [==============================] - 4s 12ms/step - loss: 0.8774 - accuracy: 0.6455 - val_loss: 0.8599 - val_accuracy: 0.6604\n",
            "Epoch 16/50\n",
            "294/294 [==============================] - 4s 12ms/step - loss: 0.8566 - accuracy: 0.6593 - val_loss: 0.8832 - val_accuracy: 0.6519\n",
            "Epoch 17/50\n",
            "294/294 [==============================] - 4s 15ms/step - loss: 0.8298 - accuracy: 0.6719 - val_loss: 0.8214 - val_accuracy: 0.6889\n",
            "Epoch 18/50\n",
            "294/294 [==============================] - 4s 12ms/step - loss: 0.8145 - accuracy: 0.6764 - val_loss: 0.8162 - val_accuracy: 0.6813\n",
            "Epoch 19/50\n",
            "294/294 [==============================] - 4s 13ms/step - loss: 0.8018 - accuracy: 0.6843 - val_loss: 0.8259 - val_accuracy: 0.6740\n",
            "Epoch 20/50\n",
            "294/294 [==============================] - 4s 14ms/step - loss: 0.7817 - accuracy: 0.6930 - val_loss: 0.8173 - val_accuracy: 0.6821\n",
            "Epoch 21/50\n",
            "294/294 [==============================] - 4s 13ms/step - loss: 0.7790 - accuracy: 0.6955 - val_loss: 0.8002 - val_accuracy: 0.6936\n",
            "Epoch 22/50\n",
            "294/294 [==============================] - 4s 12ms/step - loss: 0.7548 - accuracy: 0.7045 - val_loss: 0.7594 - val_accuracy: 0.7106\n",
            "Epoch 23/50\n",
            "294/294 [==============================] - 4s 13ms/step - loss: 0.7426 - accuracy: 0.7106 - val_loss: 0.7389 - val_accuracy: 0.7034\n",
            "Epoch 24/50\n",
            "294/294 [==============================] - 4s 15ms/step - loss: 0.7165 - accuracy: 0.7242 - val_loss: 0.7413 - val_accuracy: 0.7119\n",
            "Epoch 25/50\n",
            "294/294 [==============================] - 4s 12ms/step - loss: 0.7096 - accuracy: 0.7246 - val_loss: 0.7578 - val_accuracy: 0.7030\n",
            "Epoch 26/50\n",
            "294/294 [==============================] - 4s 12ms/step - loss: 0.7092 - accuracy: 0.7232 - val_loss: 0.7763 - val_accuracy: 0.6851\n",
            "Epoch 27/50\n",
            "294/294 [==============================] - 4s 15ms/step - loss: 0.7004 - accuracy: 0.7260 - val_loss: 0.7347 - val_accuracy: 0.7140\n",
            "Epoch 28/50\n",
            "294/294 [==============================] - 4s 12ms/step - loss: 0.6921 - accuracy: 0.7321 - val_loss: 0.7443 - val_accuracy: 0.7170\n",
            "Epoch 29/50\n",
            "294/294 [==============================] - 4s 12ms/step - loss: 0.6831 - accuracy: 0.7351 - val_loss: 0.7273 - val_accuracy: 0.7238\n",
            "Epoch 30/50\n",
            "294/294 [==============================] - 4s 14ms/step - loss: 0.6717 - accuracy: 0.7407 - val_loss: 0.7124 - val_accuracy: 0.7302\n",
            "Epoch 31/50\n",
            "294/294 [==============================] - 4s 13ms/step - loss: 0.6642 - accuracy: 0.7431 - val_loss: 0.7016 - val_accuracy: 0.7379\n",
            "Epoch 32/50\n",
            "294/294 [==============================] - 4s 12ms/step - loss: 0.6455 - accuracy: 0.7471 - val_loss: 0.7012 - val_accuracy: 0.7243\n",
            "Epoch 33/50\n",
            "294/294 [==============================] - 4s 12ms/step - loss: 0.6521 - accuracy: 0.7494 - val_loss: 0.7038 - val_accuracy: 0.7153\n",
            "Epoch 34/50\n",
            "294/294 [==============================] - 4s 15ms/step - loss: 0.6495 - accuracy: 0.7493 - val_loss: 0.6769 - val_accuracy: 0.7443\n",
            "Epoch 35/50\n",
            "294/294 [==============================] - 4s 12ms/step - loss: 0.6299 - accuracy: 0.7594 - val_loss: 0.7007 - val_accuracy: 0.7243\n",
            "Epoch 36/50\n",
            "294/294 [==============================] - 4s 12ms/step - loss: 0.6325 - accuracy: 0.7541 - val_loss: 0.6705 - val_accuracy: 0.7409\n",
            "Epoch 37/50\n",
            "294/294 [==============================] - 4s 15ms/step - loss: 0.6155 - accuracy: 0.7649 - val_loss: 0.6692 - val_accuracy: 0.7409\n",
            "Epoch 38/50\n",
            "294/294 [==============================] - 4s 12ms/step - loss: 0.6171 - accuracy: 0.7621 - val_loss: 0.6902 - val_accuracy: 0.7379\n",
            "Epoch 39/50\n",
            "294/294 [==============================] - 4s 12ms/step - loss: 0.6083 - accuracy: 0.7674 - val_loss: 0.6726 - val_accuracy: 0.7302\n"
          ]
        }
      ]
    },
    {
      "cell_type": "code",
      "source": [
        "hybrid_cnn_gru_score = hybrid_cnn_gru_model.evaluate(x_test, y_test, verbose=0)\n",
        "print('Test accuracy of the hybrid CNN+GRU model:',hybrid_cnn_gru_score[1])"
      ],
      "metadata": {
        "id": "HNDURsGhotjo",
        "colab": {
          "base_uri": "https://localhost:8080/"
        },
        "outputId": "c55334b0-3803-492f-a9a0-5f7fb8420570"
      },
      "execution_count": null,
      "outputs": [
        {
          "output_type": "stream",
          "name": "stdout",
          "text": [
            "Test accuracy of the hybrid CNN+GRU model: 0.6230248212814331\n"
          ]
        }
      ]
    },
    {
      "cell_type": "code",
      "source": [
        "import matplotlib.pyplot as plt\n",
        "\n",
        "# Plotting accuracy trajectory\n",
        "plt.plot(hybrid_cnn_gru_model_results.history['accuracy'])\n",
        "plt.plot(hybrid_cnn_gru_model_results.history['val_accuracy'])\n",
        "plt.title('CNN+GRU model accuracy trajectory')\n",
        "plt.ylabel('accuracy')\n",
        "plt.xlabel('epoch')\n",
        "plt.legend(['train', 'val'], loc='upper left')\n",
        "plt.show()\n",
        "\n",
        "# Plotting loss trajectory\n",
        "plt.plot(hybrid_cnn_gru_model_results.history['loss'],'o')\n",
        "plt.plot(hybrid_cnn_gru_model_results.history['val_loss'],'o')\n",
        "plt.title('CNN+GRU model loss trajectory')\n",
        "plt.ylabel('loss')\n",
        "plt.xlabel('epoch')\n",
        "plt.legend(['train', 'val'], loc='upper left')\n",
        "plt.show()"
      ],
      "metadata": {
        "id": "fL-QbL_7lGJJ",
        "colab": {
          "base_uri": "https://localhost:8080/",
          "height": 927
        },
        "outputId": "d2322008-3670-473e-b01b-9256fd34f693"
      },
      "execution_count": null,
      "outputs": [
        {
          "output_type": "display_data",
          "data": {
            "text/plain": [
              "<Figure size 640x480 with 1 Axes>"
            ],
            "image/png": "[encoded data removed]"
          },
          "metadata": {}
        },
        {
          "output_type": "display_data",
          "data": {
            "text/plain": [
              "<Figure size 640x480 with 1 Axes>"
            ],
            "image/png": "[encoded data removed]"
          },
          "metadata": {}
        }
      ]
    }
  ]
}